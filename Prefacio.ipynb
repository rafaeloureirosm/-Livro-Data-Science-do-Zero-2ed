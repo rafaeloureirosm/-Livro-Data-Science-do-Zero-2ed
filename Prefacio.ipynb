{
 "cells": [
  {
   "cell_type": "markdown",
   "metadata": {},
   "source": [
    "**ata Science do Zero**\n",
    "2ª edição"
   ]
  },
  {
   "cell_type": "markdown",
   "metadata": {},
   "source": [
    "Noções Fundamentais com Python"
   ]
  }
 ],
 "metadata": {
  "language_info": {
   "name": "python"
  },
  "orig_nbformat": 4
 },
 "nbformat": 4,
 "nbformat_minor": 2
}
